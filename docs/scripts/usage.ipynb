{
 "cells": [
  {
   "cell_type": "markdown",
   "id": "442dde7a",
   "metadata": {},
   "source": [
    "# Usage \n",
    "\n",
    "The Tomo NDt Library is a library that works on top of [Tomo Base](https://github.com/Tcraig088/tomobase). The purpose of this library is to extrapolate functions from 2D 3D to consider time dependent effects. In addition it allows storage of volume-time data in a compressed file allowin for convient storage of metadata and compression.\n",
    "\n",
    "## Read Write \n",
    "\n",
    "Volume Time series data is read and written to disk and only accessed where required. To initialize an ndt data set provide a location to save data to and a volume to initialize its shape, pixelsize and metadata. Volume data can be written or read from a volume time series using the read and write_volume functions while specifying the time in seconds. "
   ]
  },
  {
   "cell_type": "code",
   "execution_count": null,
   "id": "e4708a94",
   "metadata": {},
   "outputs": [],
   "source": [
    "import tomobase.phantoms as phantoms\n",
    "from  tomondt.data import VolumeNDt\n",
    "\n",
    "vol =phantoms.get_nanocage()\n",
    "\n",
    "vndt = VolumeNDt(path='new_file.vmf', volume=vol)\n",
    "vndt.write_volume(vol, time=7.5)\n",
    "vol = vndt.read_volume(time=7.5)"
   ]
  },
  {
   "cell_type": "markdown",
   "id": "1a9ebc55",
   "metadata": {},
   "source": [
    "## Operators \n",
    "The libary abstracts tomography tasks into operations. These operations each transform one data type into another. A reconstruction is a tomographic procedure which transforms a 2D into a 3D sinogram. When working with time dependent data some operations that would typically transform data into 3D need to operate with 3D + the time dimension. \n",
    "\n",
    "An example is segmentation. A typical post processing of segmentation procedure will deform a 3D volume to create another 3D volume or labelled dataset. When conducted with time, this procedure must be performed on all volumes in a volume time series. \n",
    "\n",
    "The Tomo NDt library supports the following conversions on top of procedures already available by Tomo Base:\n",
    "\n",
    "1. Deformation: Converts a volume into a volume time series by iteratively applying a deformation to a volume\n",
    "2. Forward Projection: Converts a volume-time series to a temporally labelled Sinogram\n",
    "3. Reconstruct: Converts a Sinogram into a volume time series\n",
    "4. Segmentation/Post processing: Converts a volume time series into a volume time series."
   ]
  },
  {
   "cell_type": "code",
   "execution_count": null,
   "id": "747f478d",
   "metadata": {},
   "outputs": [],
   "source": [
    "from tomobase import phantoms\n",
    "from tomobase import processes\n",
    "import numpy as np\n",
    "\n",
    "from tomondt.operators import deform_ndt\n",
    "\n",
    "times = np.linespace(1, 30, 30)\n",
    "vol = phantoms.get_nanocage()\n",
    "vndt = deform_ndt(vol, times, processes.beamdamage, knockon=0.1, elastic_deform=0.01, normalize=True)\n",
    "# creates a time series with 30 time points"
   ]
  },
  {
   "cell_type": "code",
   "execution_count": null,
   "id": "9ab80f97",
   "metadata": {},
   "outputs": [],
   "source": [
    "\n",
    "from tomobase import tiltschemes\n",
    "import numpy as np\n",
    "\n",
    "from tomondt.operators import project_ndt\n",
    "\n",
    "ts = tiltschemes.GRS(-70, 70, 0)\n",
    "angles = np.array([ts.get_angle() for i in range(71)])\n",
    "#times can be determined from the times of the volumes in vndt or by approximating the closest time to specified times \n",
    "\n",
    "sino = project_ndt(vndt, times, processes.beamdamage, knockon=0.1, elastic_deform=0.01, normalize=True)\n",
    "# creates a time series with 30 time points"
   ]
  },
  {
   "cell_type": "code",
   "execution_count": null,
   "id": "878acb20",
   "metadata": {},
   "outputs": [],
   "source": [
    "import tomobase.processes as processes\n",
    "import numpy as np\n",
    "\n",
    "from tomondt.operators import reconstruct_static_ndt\n",
    "\n",
    "# A dynamic api will be included seperately\n",
    "vndt = reconstruct_static_ndt(sino, 50, 1, processes.astra_reconstruct, method='sirt', iterations=100)\n"
   ]
  },
  {
   "cell_type": "code",
   "execution_count": null,
   "id": "443cd295",
   "metadata": {},
   "outputs": [],
   "source": [
    "import tomobase.processes as processes\n",
    "import numpy as np\n",
    "\n",
    "from tomondt.operators import segment_ndt\n",
    "\n",
    "\n",
    "vndt2 = segment_ndt(vndt, processes.poisson_noise, 0.1)"
   ]
  },
  {
   "cell_type": "markdown",
   "id": "81570611",
   "metadata": {},
   "source": []
  }
 ],
 "metadata": {
  "kernelspec": {
   "display_name": "total-env",
   "language": "python",
   "name": "python3"
  },
  "language_info": {
   "codemirror_mode": {
    "name": "ipython",
    "version": 3
   },
   "file_extension": ".py",
   "mimetype": "text/x-python",
   "name": "python",
   "nbconvert_exporter": "python",
   "pygments_lexer": "ipython3",
   "version": "3.11.11"
  }
 },
 "nbformat": 4,
 "nbformat_minor": 5
}
