{
 "cells": [
  {
   "cell_type": "code",
   "execution_count": null,
   "metadata": {},
   "outputs": [],
   "source": [
    "\"\"\"\n",
    "This file provides example code for how to perform the following operations \n",
    "-  view TiltSeriesnDt \n",
    "-  view VolumenDt\n",
    "-  view QualityReport Data \n",
    "\"\"\"\n",
    "\n",
    "# Import code\n",
    "import sys\n",
    "import os \n",
    "import pickle \n",
    "import napari\n",
    "import plotly\n",
    "sys.path.append('../')\n",
    "import numpy as np\n",
    "import pickle\n",
    "import tomondt\n",
    "#from tomo3dt.deformations import beamdamage"
   ]
  },
  {
   "cell_type": "code",
   "execution_count": null,
   "metadata": {},
   "outputs": [],
   "source": [
    "# import tiltseries, volume and quality report\n",
    "# unless specified otherwise example data is assumed to be stored in test_data folder.\n",
    "# test data folder is generated in the projections_example.ipynb\n",
    "\n",
    "path =  os.path.join(os.getcwd(),'..', \"data\",\"test_run_2023-08-22_3\")\n",
    "ref_path = os.path.join(path,\"proj_test_02x.vmf\")\n",
    "view_path = os.path.join(path,\"test.mp4\")\n",
    "ref_path_2 = os.path.join(path,\"singlesirt.vmf\")\n",
    "vol_path = os.path.join(path,\"rec_022_cupy.vmf\")\n",
    "ts_path =  os.path.join(path, \"tiltseries.pkl\")\n",
    "qr_path =  os.path.join(path, \"test_031.pkl\") \n",
    "\n",
    "times = np.array([1,2,3,4,5,6,7,8,9,10,11,12,13,14,15,16,17,18,19,20])\n",
    "alpha = np.radians(140)\n",
    "gr = (1+np.sqrt(5))/2\n",
    "angles = np.degrees(((times*gr*alpha) % alpha)-(alpha/2))\n"
   ]
  },
  {
   "cell_type": "code",
   "execution_count": null,
   "metadata": {},
   "outputs": [],
   "source": [
    "# View Volume Time Series Data from vmf file using napari\n",
    "#can specify whether to view as 'volume' or as 'orthoslice' \n",
    "vol = tomondt.load_vmf(ref_path)\n",
    "view =  tomondt.Viewer()\n",
    "view.add_volume(vol)"
   ]
  },
  {
   "cell_type": "code",
   "execution_count": null,
   "metadata": {},
   "outputs": [],
   "source": [
    "#view.set_rotation_matrix()\n",
    "\n",
    "view.animate_volume(vol,view_path,2)"
   ]
  },
  {
   "cell_type": "code",
   "execution_count": null,
   "metadata": {},
   "outputs": [],
   "source": [
    "qr = pickle.load(open(qr_path, \"rb\"))\n",
    "\n"
   ]
  }
 ],
 "metadata": {
  "kernelspec": {
   "display_name": "Python 3",
   "language": "python",
   "name": "python3"
  },
  "language_info": {
   "codemirror_mode": {
    "name": "ipython",
    "version": 3
   },
   "file_extension": ".py",
   "mimetype": "text/x-python",
   "name": "python",
   "nbconvert_exporter": "python",
   "pygments_lexer": "ipython3",
   "version": "3.11.4"
  },
  "orig_nbformat": 4
 },
 "nbformat": 4,
 "nbformat_minor": 2
}
