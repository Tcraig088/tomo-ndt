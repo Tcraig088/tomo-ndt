{
 "cells": [
  {
   "cell_type": "code",
   "execution_count": null,
   "metadata": {},
   "outputs": [],
   "source": [
    "\"\"\"\n",
    "This file provides example code for how to perform deformations\n",
    "generated_example data will be saved into a folder called test_data by default\n",
    "\"\"\"\n",
    "\n",
    "# Import code\n",
    "import sys\n",
    "import os \n",
    "import pickle\n",
    "import numpy as np\n",
    "sys.path.append('../')\n",
    "\n",
    "import tomondt\n",
    "from tomondt.deformations import beamdamage, growth\n",
    "from tomondt import operators\n"
   ]
  },
  {
   "cell_type": "code",
   "execution_count": null,
   "metadata": {},
   "outputs": [],
   "source": [
    "\n",
    "import torch\n",
    "print(torch.__version__)\n",
    "print(torch.cuda.is_available())\n",
    "import tomobase\n",
    "from tomobase import phantoms, processes\n",
    "import numpy as np\n",
    "from tomondt import operators\n",
    "\n",
    "vol =  phantoms.nanocage()\n",
    "pad = (512 - 307)//2\n",
    "vol.data = np.pad(vol.data, ((pad,pad+1),(pad,pad+1), (pad,pad+1)), mode='constant')\n",
    "\n",
    "print(vol.data.shape)\n",
    "deformation = lambda x: tomobase.processes.deformations.beamdamage(x, 0.1, 0.01, True)\n",
    "cls = operators.NDtDeform(saveas='cage-1.vmf')\n",
    "times = np.linspace(1, 100, 100 )\n",
    "cls.run(vol.data, times, deformation)\n",
    "print(times)"
   ]
  },
  {
   "cell_type": "code",
   "execution_count": null,
   "metadata": {},
   "outputs": [],
   "source": [
    "# initial save path and time for collection of each 3D structure\n",
    "path =  os.path.join(os.getcwd(),'..', \"data\")\n",
    "vol_path = os.path.join(path,\"simulation.vmf\")\n",
    "times = np.linspace(1, 30, 30)\n",
    "\n",
    "vmf = tomondt.load_vmf(vol_path)"
   ]
  },
  {
   "cell_type": "code",
   "execution_count": null,
   "metadata": {},
   "outputs": [],
   "source": [
    "# initial save path and time for collection of each 3D structure\n",
    "path =  os.path.join(os.getcwd(),'..', \"data\")\n",
    "vol_path = os.path.join(path,\"simulation.vmf\")\n",
    "times = np.linspace(1, 30, 30)\n",
    "\n",
    "#load object to deform\n",
    "obj = tomondt.load_phantom('cube', 128, 512)\n",
    "vmf = tomondt.load_vmf(vol_path, obj)\n",
    "growth = tomondt.deformations.ParticleGrowth(6, 2, 0.6, iters=3)\n",
    "grw =lambda x :growth.run(x)\n",
    "vmf = operators.Operator('cupy',0).deform(vmf, times, grw)"
   ]
  },
  {
   "cell_type": "code",
   "execution_count": null,
   "metadata": {},
   "outputs": [],
   "source": [
    "view = tomondt.Viewer()\n",
    "view.add_volume(vmf)"
   ]
  }
 ],
 "metadata": {
  "kernelspec": {
   "display_name": "tomo-nap-env",
   "language": "python",
   "name": "python3"
  },
  "language_info": {
   "codemirror_mode": {
    "name": "ipython",
    "version": 3
   },
   "file_extension": ".py",
   "mimetype": "text/x-python",
   "name": "python",
   "nbconvert_exporter": "python",
   "pygments_lexer": "ipython3",
   "version": "3.11.9"
  },
  "orig_nbformat": 4
 },
 "nbformat": 4,
 "nbformat_minor": 2
}
