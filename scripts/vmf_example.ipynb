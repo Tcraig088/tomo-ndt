{
 "cells": [
  {
   "cell_type": "code",
   "execution_count": null,
   "metadata": {},
   "outputs": [],
   "source": [
    "\"\"\"\n",
    "This file provides example for working with vmf data in tomo3dt\n",
    "\"\"\"\n",
    "\n",
    "# Import code\n",
    "import sys\n",
    "import os \n",
    "import pickle\n",
    "import numpy as np\n",
    "sys.path.append('../')\n",
    "\n",
    "import tomo3dt\n",
    "from tomo3dt.deformations import beamdamage\n",
    "from tomo3dt import operators"
   ]
  },
  {
   "cell_type": "code",
   "execution_count": null,
   "metadata": {},
   "outputs": [],
   "source": [
    "# initial save path and time for collection of each 3D structure\n",
    "path =  os.path.join(os.getcwd(), \"test_data\")\n",
    "sim_path = os.path.join(path,\"simulation.vmf\")\n",
    "vol_empty_path = os.path.join(path,\"volume_empty.vmf\")"
   ]
  },
  {
   "cell_type": "code",
   "execution_count": null,
   "metadata": {},
   "outputs": [],
   "source": [
    "# initialize empty vmf file class\n",
    "vmf  =  tomo3dt.VolumenDt(vol_empty_path)\n",
    "\n",
    "# write volume and time of collection to path \n",
    "obj =  tomo3dt.load_phantom('nanocage')\n",
    "vmf.write_vmf_record(obj, 3)\n",
    "\n",
    "# wrtie volume and time of collection with temporal error to path\n",
    "vmf.write_vmf_record(obj, 6, 6-0.1, 6+0.1)\n",
    "\n",
    "# read obj from vmf file by supplying time of collection\n",
    "obj =  vmf.read_vmf_record(6)\n",
    "\n",
    "# read obj from vmf file by supplying index of collection e.g. is it the first or second collection\n",
    "obj =  vmf.read_vmf_record(vmf.times[0])\n",
    "\n",
    "# Load preexistiing vmf file \n",
    "vmf  =  tomo3dt.VolumenDt(sim_path)\n",
    "\n",
    "#Finished: Clearing memory for running example \n",
    "if os.path.isfile(vol_empty_path):\n",
    "    os.remove(vol_empty_path)\n",
    "\n",
    "\n",
    "\n"
   ]
  }
 ],
 "metadata": {
  "language_info": {
   "name": "python"
  },
  "orig_nbformat": 4
 },
 "nbformat": 4,
 "nbformat_minor": 2
}
