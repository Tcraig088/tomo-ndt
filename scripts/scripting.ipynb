{
 "cells": [
  {
   "cell_type": "markdown",
   "metadata": {},
   "source": [
    "# Scripting in Jupyter Notebook \n",
    "This Tutorial shows how to run scripts using the Tomo NDT library\n"
   ]
  },
  {
   "cell_type": "code",
   "execution_count": null,
   "metadata": {},
   "outputs": [],
   "source": [
    "import tomondt\n",
    "from tomondt.utils import device_context\n",
    "from tomondt import NDtAlign\n",
    "from tomondt.plugins import align\n",
    "\n",
    "device_context.change_context('GPU Cuda', 0)\n",
    "\n",
    "tiltseries = tomondt.read_tiltseries('data/tiltseries.mrc', 'data/tiltseries.star')\n",
    "ts_aligned = NDtAlign().run(tiltseries, align.align_sinogram_xcorr)\n",
    "\n"
   ]
  }
 ],
 "metadata": {
  "kernelspec": {
   "display_name": "tomo-dipster",
   "language": "python",
   "name": "python3"
  },
  "language_info": {
   "name": "python",
   "version": "3.11.5"
  }
 },
 "nbformat": 4,
 "nbformat_minor": 2
}
