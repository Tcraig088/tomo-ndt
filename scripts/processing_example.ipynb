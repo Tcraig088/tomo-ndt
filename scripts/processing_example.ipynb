{
 "cells": [
  {
   "cell_type": "code",
   "execution_count": 1,
   "metadata": {},
   "outputs": [],
   "source": [
    "\"\"\"\n",
    "This file provides example code for how to perform postprocessing and analysis on volume data using the tomo3dt package.\n",
    "\"\"\"\n",
    "\n",
    "# Import code\n",
    "import sys\n",
    "import os \n",
    "import pickle\n",
    "import numpy as np\n",
    "import skimage\n",
    "sys.path.append('../')\n",
    "\n",
    "import tomo3dt\n",
    "from tomo3dt import operators"
   ]
  },
  {
   "cell_type": "code",
   "execution_count": 8,
   "metadata": {},
   "outputs": [],
   "source": [
    "# initial save path and time for collection of each 3D structure\n",
    "path =  os.path.join(os.getcwd(),'..', \"test_data\")\n",
    "sim_path = os.path.join(path,\"simulation.vmf\")\n",
    "vol_path = os.path.join(path,\"volume.vmf\")\n",
    "seg_path = os.path.join(path,\"segmentation.vmf\")\n",
    "\n",
    "# Generate tilt series and load volumes for example \n",
    "times = np.linspace(1, 71, 71)\n",
    "gr = (1+np.sqrt(5))/2\n",
    "alpha = np.radians(140)\n",
    "angles = np.degrees((times*gr*alpha % alpha)-(alpha/2)) \n",
    "\n",
    "sim = tomo3dt.VolumenDt(sim_path)\n",
    "vol = tomo3dt.VolumenDt(vol_path)\n",
    "\n"
   ]
  },
  {
   "cell_type": "code",
   "execution_count": null,
   "metadata": {},
   "outputs": [],
   "source": [
    "# perform otsu thresholding on every 3d structure in volume \n",
    "algor  = lambda x : x > skimage.filters.threshold_otsu(x)\n",
    "segmented_vol = operators.segment(vol, algor, seg_path)\n",
    "\n",
    "# Alternatively you can write over the preexisting volume file\n",
    "segmented_vol = operators.segment(vol, algor)"
   ]
  },
  {
   "cell_type": "code",
   "execution_count": 10,
   "metadata": {},
   "outputs": [
    {
     "ename": "TypeError",
     "evalue": "fp() takes 2 positional arguments but 3 were given",
     "output_type": "error",
     "traceback": [
      "\u001b[1;31m---------------------------------------------------------------------------\u001b[0m",
      "\u001b[1;31mTypeError\u001b[0m                                 Traceback (most recent call last)",
      "Cell \u001b[1;32mIn[10], line 10\u001b[0m\n\u001b[0;32m      8\u001b[0m \u001b[39m# compare forward projection of reconstructed volume to tilt series\u001b[39;00m\n\u001b[0;32m      9\u001b[0m ts \u001b[39m=\u001b[39m pickle\u001b[39m.\u001b[39mload(\u001b[39mopen\u001b[39m(os\u001b[39m.\u001b[39mpath\u001b[39m.\u001b[39mjoin(path,\u001b[39m\"\u001b[39m\u001b[39mtiltseries.pkl\u001b[39m\u001b[39m\"\u001b[39m), \u001b[39m\"\u001b[39m\u001b[39mrb\u001b[39m\u001b[39m\"\u001b[39m))\n\u001b[1;32m---> 10\u001b[0m qr2 \u001b[39m=\u001b[39m operators\u001b[39m.\u001b[39;49mevaluate(ssim_func, vol, ts)\n\u001b[0;32m     12\u001b[0m pickle\u001b[39m.\u001b[39mdump(qr1, \u001b[39mopen\u001b[39m(os\u001b[39m.\u001b[39mpath\u001b[39m.\u001b[39mjoin(path,\u001b[39m\"\u001b[39m\u001b[39mqr1.pkl\u001b[39m\u001b[39m\"\u001b[39m), \u001b[39m\"\u001b[39m\u001b[39mwb\u001b[39m\u001b[39m\"\u001b[39m))\n\u001b[0;32m     13\u001b[0m pickle\u001b[39m.\u001b[39mdump(qr2, \u001b[39mopen\u001b[39m(os\u001b[39m.\u001b[39mpath\u001b[39m.\u001b[39mjoin(path,\u001b[39m\"\u001b[39m\u001b[39mqr2.pkl\u001b[39m\u001b[39m\"\u001b[39m), \u001b[39m\"\u001b[39m\u001b[39mwb\u001b[39m\u001b[39m\"\u001b[39m))\n",
      "File \u001b[1;32md:\\Tim\\tomo3dt\\scripts\\..\\tomo3dt\\operators.py:161\u001b[0m, in \u001b[0;36mevaluate\u001b[1;34m(metric, obj, ref, preprocess, store_amalgam)\u001b[0m\n\u001b[0;32m    159\u001b[0m     i \u001b[39m+\u001b[39m\u001b[39m=\u001b[39m \u001b[39m1\u001b[39m\n\u001b[0;32m    160\u001b[0m \u001b[39melif\u001b[39;00m \u001b[39misinstance\u001b[39m(ref, TiltSeriesnDt):\n\u001b[1;32m--> 161\u001b[0m     ts, overlay \u001b[39m=\u001b[39m fp(obj, ref\u001b[39m.\u001b[39mangles, ref\u001b[39m.\u001b[39mtimes, \u001b[39mTrue\u001b[39;00m)\n\u001b[0;32m    162\u001b[0m     \u001b[39mfor\u001b[39;00m i \u001b[39min\u001b[39;00m \u001b[39mrange\u001b[39m(\u001b[39mlen\u001b[39m(ref\u001b[39m.\u001b[39mtimes)):\n\u001b[0;32m    163\u001b[0m         \u001b[39meval\u001b[39m\u001b[39m.\u001b[39mget_rawdata(ref\u001b[39m.\u001b[39mtimes[i], metric(ts\u001b[39m.\u001b[39mdata[:,:,i],ref\u001b[39m.\u001b[39mdata[:,:,i]), \u001b[39mFalse\u001b[39;00m)\n",
      "\u001b[1;31mTypeError\u001b[0m: fp() takes 2 positional arguments but 3 were given"
     ]
    }
   ],
   "source": [
    "# You can get quantification results by comparing a volume to a tilt series, volume or just off itself depending on the algorithm used \n",
    "# this extrapolates the metric to apply for every 3d structure in the volume\n",
    "ssim_func = lambda x,y : skimage.metrics.structural_similarity(x,y,data_range=100)\n",
    "\n",
    "# compare reconstructed to simulated volume\n",
    "qr1 = operators.evaluate(ssim_func, vol, sim)\n",
    "\n",
    "# compare forward projection of reconstructed volume to tilt series\n",
    "ts = pickle.load(open(os.path.join(path,\"tiltseries.pkl\"), \"rb\"))\n",
    "qr2 = operators.evaluate(ssim_func, vol, ts)\n",
    "\n",
    "pickle.dump(qr1, open(os.path.join(path,\"qr1.pkl\"), \"wb\"))\n",
    "pickle.dump(qr2, open(os.path.join(path,\"qr2.pkl\"), \"wb\"))"
   ]
  }
 ],
 "metadata": {
  "kernelspec": {
   "display_name": "tomo3dt-env",
   "language": "python",
   "name": "python3"
  },
  "language_info": {
   "codemirror_mode": {
    "name": "ipython",
    "version": 3
   },
   "file_extension": ".py",
   "mimetype": "text/x-python",
   "name": "python",
   "nbconvert_exporter": "python",
   "pygments_lexer": "ipython3",
   "version": "3.11.4"
  },
  "orig_nbformat": 4
 },
 "nbformat": 4,
 "nbformat_minor": 2
}
