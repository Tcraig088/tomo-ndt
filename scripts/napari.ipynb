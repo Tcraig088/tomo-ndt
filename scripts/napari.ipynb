{
 "cells": [
  {
   "cell_type": "markdown",
   "metadata": {},
   "source": [
    "# 1. Napari: TomoNDt Tutorial\n",
    "\n",
    "# 1.1. Run From Gui\n",
    "This version runs the code a Napari Gui instance. All functionality can be run directly from the napari gui"
   ]
  },
  {
   "cell_type": "code",
   "execution_count": 2,
   "metadata": {},
   "outputs": [
    {
     "name": "stderr",
     "output_type": "stream",
     "text": [
      "INFO:root:Test Log\n"
     ]
    },
    {
     "name": "stdout",
     "output_type": "stream",
     "text": [
      "call None\n"
     ]
    }
   ],
   "source": [
    "import napari\n",
    "viewer = napari.Viewer()"
   ]
  },
  {
   "cell_type": "markdown",
   "metadata": {},
   "source": [
    "or you can perform actions directly from the editor and add it to the editor"
   ]
  },
  {
   "cell_type": "code",
   "execution_count": null,
   "metadata": {},
   "outputs": [],
   "source": [
    "import tomondt\n",
    "\n",
    "# load a dataset\n",
    "filename = 'data/tiltseries.hdf5'\n",
    "tiltseries = tomondt.load_tiltseries(filename)\n",
    "viewer.add_image_ndt(tiltseries)\n",
    "tomondt.show(tiltseries)"
   ]
  }
 ],
 "metadata": {
  "kernelspec": {
   "display_name": "tomo-dipster",
   "language": "python",
   "name": "python3"
  },
  "language_info": {
   "codemirror_mode": {
    "name": "ipython",
    "version": 3
   },
   "file_extension": ".py",
   "mimetype": "text/x-python",
   "name": "python",
   "nbconvert_exporter": "python",
   "pygments_lexer": "ipython3",
   "version": "3.11.5"
  }
 },
 "nbformat": 4,
 "nbformat_minor": 2
}
